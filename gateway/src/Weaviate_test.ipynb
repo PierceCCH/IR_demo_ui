{
 "cells": [
  {
   "cell_type": "markdown",
   "id": "1b6ae108",
   "metadata": {},
   "source": [
    "# Initialisation"
   ]
  },
  {
   "cell_type": "code",
   "execution_count": 1,
   "id": "08741429",
   "metadata": {},
   "outputs": [
    {
     "name": "stderr",
     "output_type": "stream",
     "text": [
      "/usr/local/lib/python3.8/site-packages/tqdm/auto.py:22: TqdmWarning: IProgress not found. Please update jupyter and ipywidgets. See https://ipywidgets.readthedocs.io/en/stable/user_install.html\n",
      "  from .autonotebook import tqdm as notebook_tqdm\n"
     ]
    }
   ],
   "source": [
    "from utils.WeaviateManager import VectorManager"
   ]
  },
  {
   "cell_type": "code",
   "execution_count": 2,
   "id": "2810f28c",
   "metadata": {},
   "outputs": [],
   "source": [
    "client = VectorManager()"
   ]
  },
  {
   "cell_type": "markdown",
   "id": "6a2113f8",
   "metadata": {},
   "source": [
    "# Create Collection"
   ]
  },
  {
   "cell_type": "code",
   "execution_count": 3,
   "id": "15fad159",
   "metadata": {},
   "outputs": [
    {
     "name": "stdout",
     "output_type": "stream",
     "text": [
      "Invalid date type {'primary': {'school': 'str'}, 'secondary': 'str', 'tertiary': 'str'}\n"
     ]
    }
   ],
   "source": [
    "# Test 1.1 Attempt to create collection with nested schema - error\n",
    "\n",
    "user_schema = {\n",
    "    \"id_no\":\"str\",\n",
    "    \"age\":\"int\",\n",
    "    \"education\":{\n",
    "        \"primary\":{\n",
    "            \"school\":\"str\"\n",
    "        },\n",
    "        \"secondary\":\"str\",\n",
    "        \"tertiary\":\"str\"\n",
    "    }\n",
    "}\n",
    "collection_name = 'Faces'\n",
    "\n",
    "client.create_collection(collection_name, user_schema)"
   ]
  },
  {
   "cell_type": "code",
   "execution_count": 4,
   "id": "9ca5657a",
   "metadata": {},
   "outputs": [
    {
     "name": "stdout",
     "output_type": "stream",
     "text": [
      "Invalid date type Unknown Object\n"
     ]
    }
   ],
   "source": [
    "# Test 1.2 Attempt to create collection with invalid data type - error\n",
    "\n",
    "user_schema = {\n",
    "    \"id_no\":\"str\",\n",
    "    \"age\":\"int\",\n",
    "    \"education\": \"Unknown Object\"\n",
    "}\n",
    "collection_name = 'Faces'\n",
    "\n",
    "client.create_collection(collection_name, user_schema)"
   ]
  },
  {
   "cell_type": "code",
   "execution_count": 5,
   "id": "ace7886c",
   "metadata": {},
   "outputs": [
    {
     "name": "stdout",
     "output_type": "stream",
     "text": [
      "Collection does not exist so nothing to delete\n",
      "Collection Successfully created\n",
      "Collection has been created\n"
     ]
    }
   ],
   "source": [
    "# Test 1.3 Attempt to create collection with data type\n",
    "\n",
    "user_schema = {\n",
    "    \"id_no\":\"str\",\n",
    "    \"age\":\"int\",\n",
    "}\n",
    "collection_name = 'Faces'\n",
    "client.delete_collection(collection_name)\n",
    "client.create_collection(collection_name, user_schema)\n",
    "\n",
    "# Test 1.4 Attempt to create collection with the name collection name - error\n",
    "user_schema = {\n",
    "    \"id_no\":\"str\",\n",
    "    \"age\":\"int\",\n",
    "}\n",
    "collection_name = 'Faces'\n",
    "\n",
    "client.create_collection(collection_name, user_schema)"
   ]
  },
  {
   "cell_type": "markdown",
   "id": "dbd716c1",
   "metadata": {},
   "source": [
    "# Create Document"
   ]
  },
  {
   "cell_type": "code",
   "execution_count": 6,
   "id": "8c914d9e",
   "metadata": {},
   "outputs": [],
   "source": [
    "import torch"
   ]
  },
  {
   "cell_type": "code",
   "execution_count": 7,
   "id": "dd8c7d1b",
   "metadata": {},
   "outputs": [
    {
     "name": "stdout",
     "output_type": "stream",
     "text": [
      "Error in creating. Please read error message -> Creating object! Unexpected status code: 422, with response body: {'error': [{'message': \"invalid object: invalid integer property 'age' on class 'Faces': requires an integer, the given value is '1'\"}]}\n"
     ]
    }
   ],
   "source": [
    "# Test 2.1 Attempt to create with data that does not abide the schema - error\n",
    "data_obj = {\n",
    "    \"id_no\": \"1\",\n",
    "    \"age\": \"1\"\n",
    "}\n",
    "face_emb = torch.rand(1, 5)\n",
    "client.create_document(collection_name = 'Faces', properties = data_obj, embedding = face_emb)"
   ]
  },
  {
   "cell_type": "code",
   "execution_count": 8,
   "id": "35440edd",
   "metadata": {},
   "outputs": [],
   "source": [
    "# Test 2.2 Attempt to create with original data field\n",
    "for id_no in range(10):\n",
    "    face_emb = torch.rand(1, 5)\n",
    "    if len(face_emb) != 0:\n",
    "        data_obj = {\n",
    "            \"id_no\": \"{}\".format(id_no),\n",
    "            \"age\": id_no\n",
    "        }\n",
    "    client.create_document(collection_name = 'Faces', properties = data_obj, embedding = face_emb)"
   ]
  },
  {
   "cell_type": "code",
   "execution_count": 9,
   "id": "034aa46c",
   "metadata": {},
   "outputs": [],
   "source": [
    "# Test 2.3 Attempt to create with new data field\n",
    "data_obj = {\n",
    "    \"id_no\": \"11\",\n",
    "    \"new\": \"2\"\n",
    "}\n",
    "face_emb = torch.Tensor([0.5766745, 0.9341823, 0.7021697, 0.54776406, 0.013553977])\n",
    "client.create_document(collection_name = 'Faces', properties = data_obj, embedding = face_emb)"
   ]
  },
  {
   "cell_type": "code",
   "execution_count": 10,
   "id": "df4a2cc9",
   "metadata": {},
   "outputs": [
    {
     "name": "stdout",
     "output_type": "stream",
     "text": [
      "This id already existed please use update instead\n"
     ]
    }
   ],
   "source": [
    "# Test 2.4 Attempt to create data_object with the same name -> error\n",
    "data_obj = {\n",
    "    \"id_no\": \"11\",\n",
    "    \"new\": \"2\"\n",
    "}\n",
    "face_emb = torch.rand(1, 5)\n",
    "client.create_document(collection_name = 'Faces', properties = data_obj, embedding = face_emb)"
   ]
  },
  {
   "cell_type": "code",
   "execution_count": 11,
   "id": "239c930d",
   "metadata": {},
   "outputs": [
    {
     "name": "stdout",
     "output_type": "stream",
     "text": [
      "Mistmatch vector length, creation failed\n"
     ]
    }
   ],
   "source": [
    "# Test 2.5 Attempt to create data_object with different embedding length -> Error\n",
    "data_obj = {\n",
    "    \"id_no\": \"12\",\n",
    "    \"age\": 12\n",
    "}\n",
    "face_emb = torch.rand(1, 10)\n",
    "client.create_document(collection_name = 'Faces', properties = data_obj, embedding = face_emb)"
   ]
  },
  {
   "cell_type": "markdown",
   "id": "06b5db2e",
   "metadata": {},
   "source": [
    "# Read Document"
   ]
  },
  {
   "cell_type": "code",
   "execution_count": 12,
   "id": "941ed8d2",
   "metadata": {},
   "outputs": [
    {
     "name": "stdout",
     "output_type": "stream",
     "text": [
      "Attempt to read a non-existent document. No reading is done\n"
     ]
    }
   ],
   "source": [
    "# 3.2 Attempt to read a non existent document id number -> error\n",
    "\n",
    "client.read_document(collection_name, \"100\")"
   ]
  },
  {
   "cell_type": "code",
   "execution_count": 13,
   "id": "76e7de20",
   "metadata": {},
   "outputs": [
    {
     "name": "stdout",
     "output_type": "stream",
     "text": [
      "Attempt to read a non-existent document. No reading is done\n"
     ]
    }
   ],
   "source": [
    "# 3.2 Attempt to read a non existent collection -> error\n",
    "\n",
    "client.read_document('Non-existence', \"1\")"
   ]
  },
  {
   "cell_type": "code",
   "execution_count": 14,
   "id": "53989959",
   "metadata": {},
   "outputs": [
    {
     "data": {
      "text/plain": [
       "{'class': 'Faces',\n",
       " 'creationTimeUnix': 1671076617079,\n",
       " 'id': '1fbf7a0f-1904-4c21-afd8-6bda380e51fd',\n",
       " 'lastUpdateTimeUnix': 1671076617079,\n",
       " 'properties': {'age': 1, 'id_no': '1'},\n",
       " 'vector': [0.12981915, 0.8315664, 0.23063284, 0.3632335, 0.06877518],\n",
       " 'vectorWeights': None}"
      ]
     },
     "execution_count": 14,
     "metadata": {},
     "output_type": "execute_result"
    }
   ],
   "source": [
    "# 3.3 Attempt to read one of the file in 2.2\n",
    "\n",
    "client.read_document(collection_name, \"1\")"
   ]
  },
  {
   "cell_type": "code",
   "execution_count": 15,
   "id": "acffef5f",
   "metadata": {},
   "outputs": [
    {
     "data": {
      "text/plain": [
       "{'class': 'Faces',\n",
       " 'creationTimeUnix': 1671076617122,\n",
       " 'id': '9d62d87b-bb17-4736-8714-e1455ffa2b01',\n",
       " 'lastUpdateTimeUnix': 1671076617122,\n",
       " 'properties': {'id_no': '11', 'new': '2'},\n",
       " 'vector': [0.5766745, 0.9341823, 0.7021697, 0.54776406, 0.013553977],\n",
       " 'vectorWeights': None}"
      ]
     },
     "execution_count": 15,
     "metadata": {},
     "output_type": "execute_result"
    }
   ],
   "source": [
    "# 3.3 Attempt to read one of the file in 2.3\n",
    "\n",
    "client.read_document(collection_name, \"11\")"
   ]
  },
  {
   "cell_type": "code",
   "execution_count": 16,
   "id": "0900d603",
   "metadata": {},
   "outputs": [
    {
     "data": {
      "text/plain": [
       "[{'class': 'Faces',\n",
       "  'creationTimeUnix': 1671076617122,\n",
       "  'id': '9d62d87b-bb17-4736-8714-e1455ffa2b01',\n",
       "  'lastUpdateTimeUnix': 1671076617122,\n",
       "  'properties': {'id_no': '11', 'new': '2'},\n",
       "  'vector': [0.5766745, 0.9341823, 0.7021697, 0.54776406, 0.013553977],\n",
       "  'vectorWeights': None,\n",
       "  'certainty': 0.9999999403953552}]"
      ]
     },
     "execution_count": 16,
     "metadata": {},
     "output_type": "execute_result"
    }
   ],
   "source": [
    "# 3.4 Attempt to read document nearest to the embedding\n",
    "\n",
    "embedding = torch.Tensor([0.5766745, 0.9341823, 0.7021697, 0.54776406, 0.013553977])\n",
    "\n",
    "client.get_top_k(collection_name, embedding)"
   ]
  },
  {
   "cell_type": "code",
   "execution_count": 17,
   "id": "26ce66d8",
   "metadata": {},
   "outputs": [
    {
     "data": {
      "text/plain": [
       "[{'class': 'Faces',\n",
       "  'creationTimeUnix': 1671076617122,\n",
       "  'id': '9d62d87b-bb17-4736-8714-e1455ffa2b01',\n",
       "  'lastUpdateTimeUnix': 1671076617122,\n",
       "  'properties': {'id_no': '11', 'new': '2'},\n",
       "  'vector': [0.5766745, 0.9341823, 0.7021697, 0.54776406, 0.013553977],\n",
       "  'vectorWeights': None,\n",
       "  'certainty': 0.9999999403953552},\n",
       " {'class': 'Faces',\n",
       "  'creationTimeUnix': 1671076617075,\n",
       "  'id': '7f4ba177-7ec9-4087-8a96-e90d5a5354e7',\n",
       "  'lastUpdateTimeUnix': 1671076617075,\n",
       "  'properties': {'age': 0, 'id_no': '0'},\n",
       "  'vector': [0.14442688, 0.54120004, 0.42148685, 0.39924592, 0.16699702],\n",
       "  'vectorWeights': None,\n",
       "  'certainty': 0.9747301936149597},\n",
       " {'class': 'Faces',\n",
       "  'creationTimeUnix': 1671076617110,\n",
       "  'id': '963cd308-cf34-4f65-bfcc-a4e31b3d3b6c',\n",
       "  'lastUpdateTimeUnix': 1671076617110,\n",
       "  'properties': {'age': 9, 'id_no': '9'},\n",
       "  'vector': [0.39691275, 0.3834964, 0.54053557, 0.44337738, 0.2580279],\n",
       "  'vectorWeights': None,\n",
       "  'certainty': 0.9626578688621521}]"
      ]
     },
     "execution_count": 17,
     "metadata": {},
     "output_type": "execute_result"
    }
   ],
   "source": [
    "# 3.5 Attempt to read top k document nearer to the embedding\n",
    "\n",
    "embedding = torch.Tensor([0.5766745, 0.9341823, 0.7021697, 0.54776406, 0.013553977])\n",
    "\n",
    "client.get_top_k(collection_name, embedding, 3)"
   ]
  },
  {
   "cell_type": "code",
   "execution_count": 18,
   "id": "788aff44",
   "metadata": {},
   "outputs": [
    {
     "name": "stdout",
     "output_type": "stream",
     "text": [
      "Query with wrong embedding dimension\n"
     ]
    }
   ],
   "source": [
    "# 3.6 Attempt to read top k document nearer to the wrong embedding -> error\n",
    "\n",
    "embedding = torch.Tensor([0.5766745, 0.9341823, 0.7021697, 0.54776406])\n",
    "\n",
    "res = client.get_top_k(collection_name, embedding, 10)"
   ]
  },
  {
   "cell_type": "markdown",
   "id": "c981c2e1",
   "metadata": {},
   "source": [
    "# Update"
   ]
  },
  {
   "cell_type": "code",
   "execution_count": 19,
   "id": "f90cc8cb",
   "metadata": {},
   "outputs": [
    {
     "name": "stdout",
     "output_type": "stream",
     "text": [
      "Attempt to update a non-existent document. No update is done\n"
     ]
    }
   ],
   "source": [
    "# 4.1 Attempt to update non-existence id -> error\n",
    "\n",
    "update = {\n",
    "    'id_no': '12',\n",
    "}\n",
    "\n",
    "client.update_document(collection_name, update)"
   ]
  },
  {
   "cell_type": "code",
   "execution_count": 20,
   "id": "0323af38",
   "metadata": {},
   "outputs": [
    {
     "name": "stdout",
     "output_type": "stream",
     "text": [
      "{'class': 'Faces', 'creationTimeUnix': 1671076617083, 'id': 'cd3c8688-7f67-4724-b0e2-34702d5a1258', 'lastUpdateTimeUnix': 1671076617083, 'properties': {'age': 2, 'id_no': '2'}, 'vector': [0.23052144, 0.79224944, 0.57575065, 0.3920939, 0.96631867], 'vectorWeights': None}\n",
      "Mistmatch vector length, updating failed\n",
      "{'class': 'Faces', 'creationTimeUnix': 1671076617083, 'id': 'cd3c8688-7f67-4724-b0e2-34702d5a1258', 'lastUpdateTimeUnix': 1671076617279, 'properties': {'age': 2, 'id_no': '2'}, 'vector': [0.23052144, 0.79224944, 0.57575065, 0.3920939, 0.96631867], 'vectorWeights': None}\n"
     ]
    }
   ],
   "source": [
    "# 4.2 Attempt to update with different vector dimension -> error\n",
    "\n",
    "update = {\n",
    "    'id_no': '2',\n",
    "    'vector': torch.rand(1, 3),\n",
    "}\n",
    "\n",
    "print(client.read_document(collection_name, \"2\"))\n",
    "client.update_document(collection_name, update)\n",
    "print(client.read_document(collection_name, \"2\"))"
   ]
  },
  {
   "cell_type": "code",
   "execution_count": 21,
   "id": "22c8c37f",
   "metadata": {},
   "outputs": [
    {
     "name": "stdout",
     "output_type": "stream",
     "text": [
      "{'class': 'Faces', 'creationTimeUnix': 1671076617083, 'id': 'cd3c8688-7f67-4724-b0e2-34702d5a1258', 'lastUpdateTimeUnix': 1671076617279, 'properties': {'age': 2, 'id_no': '2'}, 'vector': [0.23052144, 0.79224944, 0.57575065, 0.3920939, 0.96631867], 'vectorWeights': None}\n",
      "Unknown field(s) in document\n",
      "{'class': 'Faces', 'creationTimeUnix': 1671076617083, 'id': 'cd3c8688-7f67-4724-b0e2-34702d5a1258', 'lastUpdateTimeUnix': 1671076617279, 'properties': {'age': 2, 'id_no': '2'}, 'vector': [0.23052144, 0.79224944, 0.57575065, 0.3920939, 0.96631867], 'vectorWeights': None}\n"
     ]
    }
   ],
   "source": [
    "# 4.3 Attempt to update with new field -> error\n",
    "\n",
    "update = {\n",
    "    'id_no': '2',\n",
    "    'vector': torch.rand(1, 5),\n",
    "    'non-known': 1\n",
    "}\n",
    "print(client.read_document(collection_name, \"2\"))\n",
    "client.update_document(collection_name, update)\n",
    "print(client.read_document(collection_name, \"2\"))"
   ]
  },
  {
   "cell_type": "code",
   "execution_count": 22,
   "id": "eff1f0e7",
   "metadata": {},
   "outputs": [
    {
     "name": "stdout",
     "output_type": "stream",
     "text": [
      "Only dict_keys(['id_no']) is found which has nothing to update\n"
     ]
    }
   ],
   "source": [
    "# 4.4 Attempt to update with only id -> error\n",
    "\n",
    "update = {\n",
    "    'id_no': '2',\n",
    "}\n",
    "\n",
    "client.update_document(collection_name, update)"
   ]
  },
  {
   "cell_type": "code",
   "execution_count": 23,
   "id": "87b7a2a3",
   "metadata": {},
   "outputs": [
    {
     "name": "stdout",
     "output_type": "stream",
     "text": [
      "Error in document field(s) -> Update of the object not successful! Unexpected status code: 422, with response body: {'error': [{'message': \"msg:bad request code:400 err:invalid integer property 'age' on class 'Faces': requires an integer, the given value is '2'\"}]}\n"
     ]
    }
   ],
   "source": [
    "# 4.5 Attempt to update age with wrong data type -> error\n",
    "\n",
    "update = {\n",
    "    'id_no': '2',\n",
    "    'age': '2'\n",
    "}\n",
    "\n",
    "client.update_document(collection_name, update)"
   ]
  },
  {
   "cell_type": "code",
   "execution_count": 24,
   "id": "f8dbed07",
   "metadata": {},
   "outputs": [
    {
     "name": "stdout",
     "output_type": "stream",
     "text": [
      "{'class': 'Faces', 'creationTimeUnix': 1671076617083, 'id': 'cd3c8688-7f67-4724-b0e2-34702d5a1258', 'lastUpdateTimeUnix': 1671076617279, 'properties': {'age': 2, 'id_no': '2'}, 'vector': [0.23052144, 0.79224944, 0.57575065, 0.3920939, 0.96631867], 'vectorWeights': None}\n",
      "{'class': 'Faces', 'creationTimeUnix': 1671076617083, 'id': 'cd3c8688-7f67-4724-b0e2-34702d5a1258', 'lastUpdateTimeUnix': 1671076617348, 'properties': {'age': 100, 'id_no': '2'}, 'vector': [0.23052144, 0.79224944, 0.57575065, 0.3920939, 0.96631867], 'vectorWeights': None}\n"
     ]
    }
   ],
   "source": [
    "# 4.6 Attempt to update age with right data type\n",
    "\n",
    "update = {\n",
    "    'id_no': '2',\n",
    "    'age': 100\n",
    "}\n",
    "print(client.read_document(collection_name, \"2\"))\n",
    "client.update_document(collection_name, update)\n",
    "print(client.read_document(collection_name, \"2\"))"
   ]
  },
  {
   "cell_type": "code",
   "execution_count": 25,
   "id": "6d6b15bd",
   "metadata": {},
   "outputs": [
    {
     "name": "stdout",
     "output_type": "stream",
     "text": [
      "{'class': 'Faces', 'creationTimeUnix': 1671076617083, 'id': 'cd3c8688-7f67-4724-b0e2-34702d5a1258', 'lastUpdateTimeUnix': 1671076617348, 'properties': {'age': 100, 'id_no': '2'}, 'vector': [0.23052144, 0.79224944, 0.57575065, 0.3920939, 0.96631867], 'vectorWeights': None}\n",
      "{'class': 'Faces', 'creationTimeUnix': 1671076617083, 'id': 'cd3c8688-7f67-4724-b0e2-34702d5a1258', 'lastUpdateTimeUnix': 1671076617373, 'properties': {'age': 100, 'id_no': '2'}, 'vector': [0.43961406, 0.5961837, 0.5770033, 0.82344407, 0.5138211], 'vectorWeights': None}\n"
     ]
    }
   ],
   "source": [
    "# 4.6 Attempt to update vector only\n",
    "\n",
    "update = {\n",
    "    'id_no': '2',\n",
    "    'vector': torch.rand(1, 5).numpy(),\n",
    "}\n",
    "print(client.read_document(collection_name, \"2\"))\n",
    "client.update_document(collection_name, update)\n",
    "print(client.read_document(collection_name, \"2\"))"
   ]
  },
  {
   "cell_type": "markdown",
   "id": "4716ccd3",
   "metadata": {},
   "source": [
    "# Delete"
   ]
  },
  {
   "cell_type": "code",
   "execution_count": 26,
   "id": "c788ec61",
   "metadata": {},
   "outputs": [
    {
     "name": "stdout",
     "output_type": "stream",
     "text": [
      "Attempt to read a non-existent document. No reading is done\n"
     ]
    }
   ],
   "source": [
    "# 5.1 Delete document\n",
    "\n",
    "client.delete_document(collection_name, \"2\")\n",
    "client.read_document(collection_name, \"2\")"
   ]
  },
  {
   "cell_type": "code",
   "execution_count": 27,
   "id": "c0d5f6c4",
   "metadata": {},
   "outputs": [
    {
     "name": "stdout",
     "output_type": "stream",
     "text": [
      "This id does not exist so no deletion is done\n"
     ]
    }
   ],
   "source": [
    "# 5.2 Delete a nonexistence document -> error\n",
    "\n",
    "client.delete_document(collection_name, \"2\")"
   ]
  },
  {
   "cell_type": "code",
   "execution_count": 28,
   "id": "699188b7",
   "metadata": {},
   "outputs": [
    {
     "name": "stdout",
     "output_type": "stream",
     "text": [
      "Successfully deleted\n",
      "Attempt to read a non-existent document. No reading is done\n"
     ]
    }
   ],
   "source": [
    "# 5.3 Delete collection\n",
    "\n",
    "client.delete_collection(collection_name)\n",
    "client.read_document(collection_name, \"1\")"
   ]
  },
  {
   "cell_type": "code",
   "execution_count": 29,
   "id": "7665c106",
   "metadata": {},
   "outputs": [
    {
     "name": "stdout",
     "output_type": "stream",
     "text": [
      "Collection does not exist so nothing to delete\n"
     ]
    }
   ],
   "source": [
    "# 5.4 Delete non existence collection -> error\n",
    "\n",
    "client.delete_collection(collection_name)"
   ]
  },
  {
   "cell_type": "code",
   "execution_count": null,
   "id": "83b43f72",
   "metadata": {},
   "outputs": [],
   "source": []
  }
 ],
 "metadata": {
  "kernelspec": {
   "display_name": "Python 3 (ipykernel)",
   "language": "python",
   "name": "python3"
  },
  "language_info": {
   "codemirror_mode": {
    "name": "ipython",
    "version": 3
   },
   "file_extension": ".py",
   "mimetype": "text/x-python",
   "name": "python",
   "nbconvert_exporter": "python",
   "pygments_lexer": "ipython3",
   "version": "3.8.15"
  },
  "vscode": {
   "interpreter": {
    "hash": "31f2aee4e71d21fbe5cf8b01ff0e069b9275f58929596ceb00d14d90e3e16cd6"
   }
  }
 },
 "nbformat": 4,
 "nbformat_minor": 5
}

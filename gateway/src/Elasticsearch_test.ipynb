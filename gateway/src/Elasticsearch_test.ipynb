{
 "cells": [
  {
   "cell_type": "code",
   "execution_count": 1,
   "id": "6948c871",
   "metadata": {},
   "outputs": [],
   "source": [
    "import os\n",
    "from elasticsearch import Elasticsearch\n",
    "from elasticsearch.helpers import bulk, scan, streaming_bulk"
   ]
  },
  {
   "cell_type": "code",
   "execution_count": null,
   "id": "37e058f8",
   "metadata": {},
   "outputs": [],
   "source": [
    "type_map = {\n",
    "    \"int\":\"integer\",\n",
    "    \"float\":\"float\",\n",
    "    \"double\":\"double\",\n",
    "    \"str\": \"text\",\n",
    "    \"bool\": \"boolean\",\n",
    "    \"datetime\": \"date\",\n",
    "    \"list[int]\":\"integer\",\n",
    "    \"list[str]\":\"text\",\n",
    "    \"list[float]\": \"float\",\n",
    "    \"list[double]\": \"double\",\n",
    "    \"torch.tensor\": \"dense_vector\",\n",
    "    \"numpy.ndarray\": \"dense_vector\"\n",
    "}"
   ]
  },
  {
   "cell_type": "code",
   "execution_count": 244,
   "id": "1cd9a659",
   "metadata": {},
   "outputs": [],
   "source": [
    "def traverse_map (map_dict):\n",
    "    original_map_dict = dict(map_dict)\n",
    "    for k, v in map_dict.items():\n",
    "        if isinstance(v, dict):\n",
    "            traverse_map(v)\n",
    "        else:\n",
    "            try:\n",
    "                map_dict[k] = {\"type\":TYPE_MAP[v.lower()]}\n",
    "            except Exception as e:\n",
    "                print(f'{e.__class__.__name__}: Key {v} not found in TYPE_MAP. Mapping not updated')\n",
    "                return original_map_dict\n",
    "    return map_dict\n"
   ]
  },
  {
   "cell_type": "code",
   "execution_count": 7,
   "id": "bb7abe8c",
   "metadata": {},
   "outputs": [],
   "source": [
    "TYPE_MAP =  {\n",
    "    \"int\":\"integer\",\n",
    "    \"float\":\"float\",\n",
    "    \"double\":\"double\",\n",
    "    \"str\": \"text\",\n",
    "    \"bool\": \"boolean\",\n",
    "    \"datetime\": \"date\",\n",
    "    \"list[int]\":\"integer\",\n",
    "    \"list[str]\":\"text\",\n",
    "    \"list[float]\": \"float\",\n",
    "    \"list[double]\": \"double\",\n",
    "    \"torch.tensor\": \"dense_vector\",\n",
    "    \"numpy.ndarray\": \"dense_vector\"\n",
    "}"
   ]
  },
  {
   "cell_type": "code",
   "execution_count": 34,
   "id": "a29ab26d",
   "metadata": {},
   "outputs": [],
   "source": [
    "user_map = {\n",
    "    \"name\":\"str\",\n",
    "    \"age\":\"int\",\n",
    "    \"education\":{\n",
    "        \"primary\":{\n",
    "            \"school\":\"str\"\n",
    "        },\n",
    "        \"secondary\":\"str\",\n",
    "        \"tertiary\":\"str\"\n",
    "    }\n",
    "}"
   ]
  },
  {
   "cell_type": "code",
   "execution_count": 247,
   "id": "ca1a586b",
   "metadata": {},
   "outputs": [],
   "source": [
    "final_map = {\"mappings\":{\"properties\":{}}}"
   ]
  },
  {
   "cell_type": "code",
   "execution_count": 248,
   "id": "e0e89158",
   "metadata": {},
   "outputs": [
    {
     "name": "stdout",
     "output_type": "stream",
     "text": [
      "KeyError: Key meow not found in TYPE_MAP. Mapping not updated\n"
     ]
    }
   ],
   "source": [
    "updated_map = traverse_map(user_map)"
   ]
  },
  {
   "cell_type": "code",
   "execution_count": 249,
   "id": "83fae651",
   "metadata": {},
   "outputs": [
    {
     "data": {
      "text/plain": [
       "{'name': {'type': 'text'},\n",
       " 'age': {'type': 'integer'},\n",
       " 'education': {'primary': {'school': 'meow'},\n",
       "  'secondary': {'type': 'text'},\n",
       "  'tertiary': {'type': 'text'}}}"
      ]
     },
     "execution_count": 249,
     "metadata": {},
     "output_type": "execute_result"
    }
   ],
   "source": [
    "updated_map"
   ]
  },
  {
   "cell_type": "code",
   "execution_count": 8,
   "id": "f72bd8ba",
   "metadata": {},
   "outputs": [],
   "source": [
    "TYPE_MAP =  {\n",
    "    \"int\":\"integer\",\n",
    "    \"float\":\"float\",\n",
    "    \"double\":\"double\",\n",
    "    \"str\": \"text\",\n",
    "    \"bool\": \"boolean\",\n",
    "    \"datetime\": \"date\",\n",
    "    \"list[int]\":\"integer\",\n",
    "    \"list[str]\":\"text\",\n",
    "    \"list[float]\": \"float\",\n",
    "    \"list[double]\": \"double\",\n",
    "    \"torch.tensor\": \"dense_vector\",\n",
    "    \"numpy.ndarray\": \"dense_vector\"\n",
    "}"
   ]
  },
  {
   "cell_type": "code",
   "execution_count": 24,
   "id": "2817fd06",
   "metadata": {},
   "outputs": [],
   "source": [
    "user_map = {\n",
    "    \"name\":\"str\",\n",
    "    \"age\":\"int\",\n",
    "    \"education\":{\n",
    "        \"primary\":{\n",
    "            \"school\":\"str\"\n",
    "        },\n",
    "        \"secondary\":\"str\",\n",
    "        \"tertiary\":\"str\"\n",
    "    }\n",
    "}"
   ]
  },
  {
   "cell_type": "code",
   "execution_count": 103,
   "id": "07788acb",
   "metadata": {},
   "outputs": [],
   "source": [
    "\n",
    "class DocMgr():\n",
    "    def __init__(self):\n",
    "        self.url = f\"https://{os.environ.get('ELASTICSEARCH_HOST')}:{os.environ.get('ELASTICSEARCH_C_PORT')}\"\n",
    "        self.username = os.environ.get('ELASTIC_USERNAME')\n",
    "        self.password = os.environ.get('ELASTIC_PASSWORD')\n",
    "        self.client = Elasticsearch(self.url, \n",
    "                                    verify_certs=False, \n",
    "                                    basic_auth=(self.username, self.password))\n",
    "\n",
    "        \n",
    "    def _check_valid_values(self, map_dict:dict) -> int:\n",
    "        \"\"\"\n",
    "        Traverse mapping dictionary to ensure that all types are valid types within TYPE_MAP\n",
    "\n",
    "        Args:\n",
    "            map_dict (dict): Mapping to be checked\n",
    "\n",
    "        Returns:\n",
    "            int: 0 if there is invalid types, 1 otherwise\n",
    "\n",
    "        \"\"\"\n",
    "        ret_val = 1\n",
    "        for k, v in map_dict.items():\n",
    "            if isinstance(v, dict):\n",
    "                ret_val = self._check_valid_values(v)\n",
    "            else:\n",
    "                if not v in TYPE_MAP:\n",
    "                    print(f\"'{v}' type for '{k}' NOT FOUND\")\n",
    "                    return 0\n",
    "\n",
    "        return ret_val * 1\n",
    "    \n",
    "    def _traverse_map (self, map_dict:dict) -> int:\n",
    "        \"\"\"\n",
    "        Traverse mapping dictionary to convert data type into framework specific type\n",
    "\n",
    "        Args:\n",
    "            map_dict (dict): Mapping to be used to create ES index\n",
    "\n",
    "        Returns:\n",
    "            dict: updated mapping dictionary\n",
    "\n",
    "        \"\"\"\n",
    "        dictionary ={\"properties\":dict()}\n",
    "        for k, v in map_dict.items():\n",
    "            if isinstance(v, dict):\n",
    "                dictionary['properties'][k]= self._traverse_map(v)\n",
    "            else:\n",
    "                dictionary['properties'][k]={\"type\":TYPE_MAP[v]}       \n",
    "        return dictionary\n",
    "    \n",
    "    def create_collection(self, collection_name: str, schema: dict) -> dict:\n",
    "        \"\"\"\n",
    "        Create the index on ElasticSearch\n",
    "\n",
    "        Args:\n",
    "            collection_name (str): Index name of ES\n",
    "            schema (dict): Mapping to be used to create ES index\n",
    "\n",
    "        Returns:\n",
    "            dict: response of error, or 200 if no errors caught\n",
    "            \n",
    "        \"\"\"\n",
    "        try:\n",
    "            assert type(schema)==dict\n",
    "        except Exception as e:\n",
    "            return {\"response\":f\"{e.__class__.__name__}: Type of 'schema' is not dict\"}\n",
    "        try:\n",
    "            assert type(collection_name)==str\n",
    "        except Exception as e:\n",
    "            return {\"response\":f\"{e.__class__.__name__}: Type of 'collection_name' is not str\"}\n",
    "\n",
    "        mapping_validity = self._check_valid_values(schema)\n",
    "        if not mapping_validity:\n",
    "            return {\"response\": \"KeyError: data type not found in TYPE_MAP\"}\n",
    "        updated_mapping = self._traverse_map(schema)\n",
    "        try:\n",
    "            self.client.indices.create(index=collection_name, mappings=updated_mapping)\n",
    "        except Exception as e:\n",
    "            return {\"response\":f\"{e}\"}\n",
    "        return {\"response\":\"200\"}\n",
    "    \n",
    "    def delete_collection(self, collection_name: str) -> dict:\n",
    "        \"\"\"\n",
    "        Create the index on ElasticSearch\n",
    "\n",
    "        Args:\n",
    "            collection_name (str): Index name of ES\n",
    "            schema (dict): Mapping to be used to create ES index\n",
    "\n",
    "        Returns:\n",
    "            dict: response of error, or 200 if no errors caught\n",
    "\n",
    "        \"\"\"\n",
    "        try:\n",
    "            self.client.indices.delete(index=collection_name)\n",
    "        except Exception as e:\n",
    "            return {\"response\": f\"{e}\"}\n",
    "        return {\"response\":\"200\"}\n",
    "            "
   ]
  },
  {
   "cell_type": "code",
   "execution_count": 104,
   "id": "d9952e40",
   "metadata": {},
   "outputs": [
    {
     "name": "stderr",
     "output_type": "stream",
     "text": [
      "/usr/local/lib/python3.8/site-packages/elasticsearch/_sync/client/__init__.py:395: SecurityWarning: Connecting to 'https://elasticsearch:9200' using TLS with verify_certs=False is insecure\n",
      "  _transport = transport_class(\n"
     ]
    }
   ],
   "source": [
    "es_mgr = DocMgr()"
   ]
  },
  {
   "cell_type": "code",
   "execution_count": 105,
   "id": "6283b2be",
   "metadata": {},
   "outputs": [
    {
     "name": "stderr",
     "output_type": "stream",
     "text": [
      "/usr/local/lib/python3.8/site-packages/urllib3/connectionpool.py:1045: InsecureRequestWarning: Unverified HTTPS request is being made to host 'elasticsearch'. Adding certificate verification is strongly advised. See: https://urllib3.readthedocs.io/en/1.26.x/advanced-usage.html#ssl-warnings\n",
      "  warnings.warn(\n"
     ]
    }
   ],
   "source": [
    "res = es_mgr.create_collection(collection_name = \"meow\", schema = user_map)"
   ]
  },
  {
   "cell_type": "code",
   "execution_count": 79,
   "id": "81dc9f39",
   "metadata": {},
   "outputs": [
    {
     "data": {
      "text/plain": [
       "{'response': \"BadRequestError(400, 'resource_already_exists_exception', 'index [meow/biznYgwtSJior605EMG0_g] already exists')\"}"
      ]
     },
     "execution_count": 79,
     "metadata": {},
     "output_type": "execute_result"
    }
   ],
   "source": [
    "res"
   ]
  },
  {
   "cell_type": "code",
   "execution_count": 31,
   "id": "13b33c17",
   "metadata": {},
   "outputs": [],
   "source": [
    "url = f\"https://{os.environ.get('ELASTICSEARCH_HOST')}:{os.environ.get('ELASTICSEARCH_C_PORT')}\"\n",
    "client = Elasticsearch(url, verify_certs=False, basic_auth=('elastic', 'changeme'))"
   ]
  },
  {
   "cell_type": "code",
   "execution_count": 48,
   "id": "d7b8d26f",
   "metadata": {},
   "outputs": [
    {
     "name": "stdout",
     "output_type": "stream",
     "text": [
      "BadRequestError(400, 'resource_already_exists_exception', 'index [meow/VhVyQpGkSiaZNhdPLnGM-A] already exists')\n"
     ]
    },
    {
     "name": "stderr",
     "output_type": "stream",
     "text": [
      "/tmp/ipykernel_25/96913674.py:2: DeprecationWarning: The 'body' parameter is deprecated and will be removed in a future version. Instead use individual parameters.\n",
      "  client.indices.create(index=\"meow\", body=new_map)\n",
      "/usr/local/lib/python3.8/site-packages/urllib3/connectionpool.py:1045: InsecureRequestWarning: Unverified HTTPS request is being made to host 'elasticsearch'. Adding certificate verification is strongly advised. See: https://urllib3.readthedocs.io/en/1.26.x/advanced-usage.html#ssl-warnings\n",
      "  warnings.warn(\n"
     ]
    }
   ],
   "source": [
    "try:\n",
    "    client.indices.create(index=\"meow\", body=new_map)\n",
    "except Exception as e:\n",
    "    print(e)"
   ]
  },
  {
   "cell_type": "code",
   "execution_count": 53,
   "id": "2d841377",
   "metadata": {},
   "outputs": [
    {
     "data": {
      "text/plain": [
       "{'response': 'Mapping Error'}"
      ]
     },
     "execution_count": 53,
     "metadata": {},
     "output_type": "execute_result"
    }
   ],
   "source": [
    "new_map"
   ]
  },
  {
   "cell_type": "code",
   "execution_count": 32,
   "id": "2b379aa2",
   "metadata": {},
   "outputs": [
    {
     "data": {
      "text/plain": [
       "{'name': 'str',\n",
       " 'age': 'int',\n",
       " 'education': {'primary': {'school': 'str'},\n",
       "  'secondary': 'str',\n",
       "  'tertiary': 'str'}}"
      ]
     },
     "execution_count": 32,
     "metadata": {},
     "output_type": "execute_result"
    }
   ],
   "source": [
    "user_map"
   ]
  },
  {
   "cell_type": "code",
   "execution_count": 41,
   "id": "407b2586",
   "metadata": {},
   "outputs": [],
   "source": [
    "gold_map = {\n",
    "    \"mappings\": {\n",
    "      \"properties\": {\n",
    "        \"age\": {\n",
    "          \"type\": \"integer\"\n",
    "        },\n",
    "        \"education\": {\n",
    "          \"properties\": {\n",
    "            \"primary\": {\n",
    "              \"properties\": {\n",
    "                \"school\": {\n",
    "                  \"type\": \"text\",\n",
    "                }\n",
    "              }\n",
    "            },\n",
    "            \"secondary\": {\n",
    "              \"type\": \"text\"\n",
    "            },\n",
    "            \"tertiary\": {\n",
    "              \"type\": \"text\"\n",
    "            }\n",
    "          }\n",
    "        },\n",
    "        \"name\": {\n",
    "          \"type\": \"text\"\n",
    "        }\n",
    "      }\n",
    "    }\n",
    "  }"
   ]
  },
  {
   "cell_type": "code",
   "execution_count": 40,
   "id": "6f4fbe5c",
   "metadata": {},
   "outputs": [],
   "source": [
    "user = {\n",
    "  \"mappings\": {\n",
    "    \"properties\": {\n",
    "      \"name\": {\n",
    "        \"type\": \"text\"\n",
    "      },\n",
    "      \"age\": {\n",
    "        \"type\": \"integer\"\n",
    "      },\n",
    "      \"education\": {\n",
    "        \"properties\": {\n",
    "          \"primary\": {\n",
    "            \"properties\": {\n",
    "              \"school\": {\n",
    "                \"type\": \"text\"\n",
    "              }\n",
    "            }\n",
    "          },\n",
    "          \"secondary\": {\n",
    "            \"type\": \"text\"\n",
    "          },\n",
    "          \"tertiary\": {\n",
    "            \"type\": \"text\"\n",
    "          }\n",
    "        }\n",
    "      }\n",
    "    }\n",
    "  }\n",
    "}"
   ]
  },
  {
   "cell_type": "code",
   "execution_count": 21,
   "id": "173dda68",
   "metadata": {},
   "outputs": [],
   "source": [
    "new_map = {}\n",
    "\n",
    "def traverse(dict_map):\n",
    "    dictionary ={\"properties\":dict()}\n",
    "    for k, v in dict_map.items():\n",
    "        if isinstance(v, dict):\n",
    "            dictionary['properties'][k]= traverse(v)\n",
    "        else:\n",
    "            dictionary['properties'][k]=v\n",
    "    return dictionary\n",
    "        "
   ]
  },
  {
   "cell_type": "code",
   "execution_count": 22,
   "id": "8dd7d9c4",
   "metadata": {},
   "outputs": [],
   "source": [
    "aa = traverse(user_map)"
   ]
  },
  {
   "cell_type": "code",
   "execution_count": 23,
   "id": "c548f6ac",
   "metadata": {},
   "outputs": [
    {
     "data": {
      "text/plain": [
       "{'properties': {'name': 'str',\n",
       "  'age': 'int',\n",
       "  'education': {'properties': {'primary': {'properties': {'school': 'str'}},\n",
       "    'secondary': 'str',\n",
       "    'tertiary': 'str'}}}}"
      ]
     },
     "execution_count": 23,
     "metadata": {},
     "output_type": "execute_result"
    }
   ],
   "source": [
    "aa"
   ]
  },
  {
   "cell_type": "code",
   "execution_count": 13,
   "id": "5f6f5b47",
   "metadata": {},
   "outputs": [],
   "source": [
    "def _check_valid_values(dict_map):\n",
    "    ret_val = 1\n",
    "    for k, v in dict_map.items():\n",
    "        if isinstance(v, dict):\n",
    "            ret_val = _check_valid_values(v)\n",
    "        else:\n",
    "            if not v in TYPE_MAP:\n",
    "                print(f\"'{v}' type for '{k}' NOT FOUND\")\n",
    "                return 0\n",
    "                \n",
    "    return ret_val * 1"
   ]
  },
  {
   "cell_type": "code",
   "execution_count": 14,
   "id": "c4703893",
   "metadata": {},
   "outputs": [],
   "source": [
    "user_map = {\n",
    "    \"name\":\"str\",\n",
    "    \"age\":\"int\",\n",
    "    \"education\":{\n",
    "        \"primary\":{\n",
    "            \"school\":\"woof\"\n",
    "        },\n",
    "        \"secondary\":\"meow\",\n",
    "        \"tertiary\":\"str\"\n",
    "    }\n",
    "}"
   ]
  },
  {
   "cell_type": "code",
   "execution_count": 15,
   "id": "6704fae9",
   "metadata": {},
   "outputs": [
    {
     "name": "stdout",
     "output_type": "stream",
     "text": [
      "'woof' type for 'school' NOT FOUND\n",
      "'meow' type for 'secondary' NOT FOUND\n"
     ]
    },
    {
     "data": {
      "text/plain": [
       "0"
      ]
     },
     "execution_count": 15,
     "metadata": {},
     "output_type": "execute_result"
    }
   ],
   "source": [
    "_check_valid_values(user_map)"
   ]
  },
  {
   "cell_type": "code",
   "execution_count": 44,
   "id": "b9007936",
   "metadata": {
    "scrolled": true
   },
   "outputs": [
    {
     "name": "stdout",
     "output_type": "stream",
     "text": [
      "{'mappings': {'properties': {'name': {'type': 'text'}, 'age': {'type': 'integer'}, 'education': {'properties': {'primary': {'properties': {'school': {'type': 'text'}}}, 'secondary': {'type': 'text'}, 'tertiary': {'type': 'text'}}}}}}\n"
     ]
    }
   ],
   "source": [
    "print(gold_map)"
   ]
  },
  {
   "cell_type": "code",
   "execution_count": 46,
   "id": "5d19826e",
   "metadata": {},
   "outputs": [
    {
     "data": {
      "text/plain": [
       "{'mappings': {'properties': {'name': {'type': 'text'},\n",
       "   'age': {'type': 'integer'},\n",
       "   'education': {'properties': {'primary': {'properties': {'school': {'type': 'text'}}},\n",
       "     'secondary': {'type': 'text'},\n",
       "     'tertiary': {'type': 'text'}}}}}}"
      ]
     },
     "execution_count": 46,
     "metadata": {},
     "output_type": "execute_result"
    }
   ],
   "source": [
    "new_map"
   ]
  },
  {
   "cell_type": "code",
   "execution_count": 96,
   "id": "cccf54d4",
   "metadata": {},
   "outputs": [],
   "source": [
    "def create_collection(collection_name: str, schema: dict) -> dict:\n",
    "    assert type(collection_name) == str\n",
    "    assert type(schema) == dict, \"Meow\"\n",
    "    print(collection_name)\n",
    "\n",
    "    print(schema)"
   ]
  },
  {
   "cell_type": "code",
   "execution_count": 97,
   "id": "73dbb01f",
   "metadata": {},
   "outputs": [
    {
     "ename": "AssertionError",
     "evalue": "Meow",
     "output_type": "error",
     "traceback": [
      "\u001b[0;31m---------------------------------------------------------------------------\u001b[0m",
      "\u001b[0;31mAssertionError\u001b[0m                            Traceback (most recent call last)",
      "Cell \u001b[0;32mIn[97], line 1\u001b[0m\n\u001b[0;32m----> 1\u001b[0m \u001b[43mcreate_collection\u001b[49m\u001b[43m(\u001b[49m\u001b[38;5;124;43m\"\u001b[39;49m\u001b[38;5;124;43mmeow\u001b[39;49m\u001b[38;5;124;43m\"\u001b[39;49m\u001b[43m,\u001b[49m\u001b[43m \u001b[49m\u001b[43m[\u001b[49m\u001b[38;5;124;43m\"\u001b[39;49m\u001b[38;5;124;43mmeow\u001b[39;49m\u001b[38;5;124;43m\"\u001b[39;49m\u001b[43m]\u001b[49m\u001b[43m)\u001b[49m\n",
      "Cell \u001b[0;32mIn[96], line 3\u001b[0m, in \u001b[0;36mcreate_collection\u001b[0;34m(collection_name, schema)\u001b[0m\n\u001b[1;32m      1\u001b[0m \u001b[38;5;28;01mdef\u001b[39;00m \u001b[38;5;21mcreate_collection\u001b[39m(collection_name: \u001b[38;5;28mstr\u001b[39m, schema: \u001b[38;5;28mdict\u001b[39m) \u001b[38;5;241m-\u001b[39m\u001b[38;5;241m>\u001b[39m \u001b[38;5;28mdict\u001b[39m:\n\u001b[1;32m      2\u001b[0m     \u001b[38;5;28;01massert\u001b[39;00m \u001b[38;5;28mtype\u001b[39m(collection_name) \u001b[38;5;241m==\u001b[39m \u001b[38;5;28mstr\u001b[39m\n\u001b[0;32m----> 3\u001b[0m     \u001b[38;5;28;01massert\u001b[39;00m \u001b[38;5;28mtype\u001b[39m(schema) \u001b[38;5;241m==\u001b[39m \u001b[38;5;28mdict\u001b[39m, \u001b[38;5;124m\"\u001b[39m\u001b[38;5;124mMeow\u001b[39m\u001b[38;5;124m\"\u001b[39m\n\u001b[1;32m      4\u001b[0m     \u001b[38;5;28mprint\u001b[39m(collection_name)\n\u001b[1;32m      6\u001b[0m     \u001b[38;5;28mprint\u001b[39m(schema)\n",
      "\u001b[0;31mAssertionError\u001b[0m: Meow"
     ]
    }
   ],
   "source": [
    "create_collection(\"meow\", [\"meow\"])"
   ]
  },
  {
   "cell_type": "code",
   "execution_count": null,
   "id": "9d953910",
   "metadata": {},
   "outputs": [],
   "source": []
  }
 ],
 "metadata": {
  "kernelspec": {
   "display_name": "Python 3 (ipykernel)",
   "language": "python",
   "name": "python3"
  },
  "language_info": {
   "codemirror_mode": {
    "name": "ipython",
    "version": 3
   },
   "file_extension": ".py",
   "mimetype": "text/x-python",
   "name": "python",
   "nbconvert_exporter": "python",
   "pygments_lexer": "ipython3",
   "version": "3.8.15"
  }
 },
 "nbformat": 4,
 "nbformat_minor": 5
}

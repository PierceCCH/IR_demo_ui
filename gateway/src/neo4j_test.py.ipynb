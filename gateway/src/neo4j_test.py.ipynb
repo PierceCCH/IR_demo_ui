{
 "cells": [
  {
   "cell_type": "code",
   "execution_count": 2,
   "id": "09784b50",
   "metadata": {},
   "outputs": [
    {
     "name": "stdout",
     "output_type": "stream",
     "text": [
      "Collecting pandas\n",
      "  Downloading pandas-1.5.2-cp38-cp38-manylinux_2_17_x86_64.manylinux2014_x86_64.whl (12.2 MB)\n",
      "\u001b[K     |████████████████████████████████| 12.2 MB 60 kB/s  eta 0:00:01\n",
      "\u001b[?25hRequirement already satisfied: pytz>=2020.1 in /mnt/c/Users/Shearman Chua/Desktop/work/template_ir/venv/lib/python3.8/site-packages (from pandas) (2022.7)\n",
      "Requirement already satisfied: numpy>=1.20.3; python_version < \"3.10\" in /mnt/c/Users/Shearman Chua/Desktop/work/template_ir/venv/lib/python3.8/site-packages (from pandas) (1.23.5)\n",
      "Requirement already satisfied: python-dateutil>=2.8.1 in /mnt/c/Users/Shearman Chua/Desktop/work/template_ir/venv/lib/python3.8/site-packages (from pandas) (2.8.2)\n",
      "Requirement already satisfied: six>=1.5 in /mnt/c/Users/Shearman Chua/Desktop/work/template_ir/venv/lib/python3.8/site-packages (from python-dateutil>=2.8.1->pandas) (1.16.0)\n",
      "Installing collected packages: pandas\n",
      "Successfully installed pandas-1.5.2\n"
     ]
    }
   ],
   "source": [
    "!pip install pandas"
   ]
  },
  {
   "cell_type": "code",
   "execution_count": 8,
   "id": "092798f4",
   "metadata": {},
   "outputs": [],
   "source": [
    "import collections\n",
    "import os\n",
    "from typing import Optional, List, Dict, Union\n",
    "\n",
    "import yaml\n",
    "import json\n",
    "import re\n",
    "import ast\n",
    "import pandas as pd\n",
    "from tqdm import tqdm\n",
    "\n",
    "from datetime import datetime\n",
    "import pytz\n",
    "from neo4j import GraphDatabase\n",
    "from neo4j.time import DateTime"
   ]
  },
  {
   "cell_type": "code",
   "execution_count": 19,
   "id": "660696e7",
   "metadata": {},
   "outputs": [],
   "source": [
    "# Map common python types to neo4j Types\n",
    "TYPE_MAP =  {\n",
    "    \"int\":\"Integer\",\n",
    "    \"float\":\"Float\",\n",
    "    \"str\": \"String\",\n",
    "    \"bool\": \"Boolean\",\n",
    "    \"datetime\": \"DateTime\",\n",
    "    \"list[int]\":\"List\",\n",
    "    \"list[str]\":\"List\",\n",
    "    \"list[float]\": \"List\",\n",
    "    \"list[double]\": \"List\",\n",
    "    \"dict\": \"Map\",\n",
    "}\n",
    "\n",
    "class Neo4jConnection:\n",
    "\n",
    "    def __init__(self, uri, user, pwd):\n",
    "        self.__uri = uri\n",
    "        self.__user = user\n",
    "        self.__pwd = pwd\n",
    "        \n",
    "        self.driver = None\n",
    "        try:\n",
    "            self.driver = GraphDatabase.driver(\n",
    "                self.__uri, auth=(self.__user, self.__pwd))\n",
    "            self.bookmark = self.driver.session().last_bookmark()\n",
    "        except Exception as e:\n",
    "            print(\"Failed to create the driver:\", e)\n",
    "\n",
    "    def close(self):\n",
    "        if self.driver is not None:\n",
    "            self.driver.close()\n",
    "\n",
    "    def query(self, query, parameters=None, db=None):\n",
    "        assert self.driver is not None, \"Driver not initialized!\"\n",
    "        session = None\n",
    "        response = None\n",
    "        try:\n",
    "            session = self.driver.session(\n",
    "                database=db) if db is not None else self.driver.session()\n",
    "            response = list(session.run(query, parameters))\n",
    "        except Exception as e:\n",
    "            return {\"response\":f\"{e}\"}\n",
    "        finally:\n",
    "            if session is not None:\n",
    "                session.close()\n",
    "        return response\n",
    "\n",
    "class Neo4jManager():\n",
    "    def __init__(self):\n",
    "        self.url = \"bolt://neo4j:7687\"\n",
    "        self.username = 'neo4j'\n",
    "        self.password = 'password'\n",
    "        self.neo4j_conn = Neo4jConnection(uri=self.url,\n",
    "                                          user=self.username,\n",
    "                                          pwd=self.password)\n",
    "\n",
    "        \n",
    "    def create_collection(self, collection_name: str):\n",
    "        pass\n",
    "\n",
    "    def delete_collection(self,collection_name: str):\n",
    "        pass\n",
    "\n",
    "    def create_index(self, node_index_name: str, node_label: str, node_id: str, db=None):\n",
    "        with self.neo4j_conn.driver.session(database=db) if db is not None else self.neo4j_conn.driver.session() as session:\n",
    "            return session.run(\"CREATE INDEX {} IF NOT EXISTS FOR (n:{}) ON (n.{})\".format(node_index_name, node_label, node_id))\n",
    "\n",
    "    def merge_node(self, node_labels, node_attributes, db=None):\n",
    "        with self.neo4j_conn.driver.session(database=db) if db is not None else self.neo4j_conn.driver.session() as session:\n",
    "            node_labels = \":\".join(node_labels)\n",
    "            node_attributes = \"{\"+\", \".join([re.sub('[^A-Za-z0-9]+', '_', k)+\" : '\"+str(node_attributes[k]).replace(\n",
    "                \"'\", \"\").encode(\"ascii\", \"ignore\").decode()+\"'\" for k in node_attributes.keys() if not k[0].isdigit()])+\"}\"\n",
    "            # print(\"MERGE (p:{} {}) RETURN p\".format(node_label, node_attributes))'\n",
    "            print(\"MERGE (p:{} {}) RETURN p\".format(node_labels, node_attributes))\n",
    "            print(\"\\n\")\n",
    "            return session.run(\"MERGE (p:{} {}) RETURN p\".format(node_labels, node_attributes)).single().value()\n",
    "\n",
    "    def create_node(self, collection_name: str, nodes: List[dict]):\n",
    "        for node in tqdm(nodes):\n",
    "            node_attributes = node.copy()\n",
    "            for key,node_attribute in node_attributes:\n",
    "                if type(node_attribute) == datetime:\n",
    "                    neo4j_datetime = DateTime(node_attribute.year, node_attribute.month, node_attribute.day, node_attribute.minute, node_attribute.second)\n",
    "                    node_attributes.update({key, neo4j_datetime})\n",
    "            node_labels = [label.capitalize() for label in node['node_labels']]\n",
    "            node_id = node['node_id']\n",
    "            node_attributes['neo4j_collection'] = collection_name\n",
    "            self.merge_node(node_labels,node_attributes)\n",
    "            for label in node_labels:\n",
    "                self.create_index(label.lower()+'_index', label, node_id)\n",
    "    def merge_edge(self, source_node_label, source_node_attribute, target_node_label, target_node_attribute, relation_type, edge_attributes, db=None):\n",
    "\n",
    "        with self.neo4j_conn.driver.session(database=db) if db is not None else self.neo4j_conn.driver.session() as session:\n",
    "            source_attributes = \"{\"+\", \".join([k+\" : '\"+str(source_node_attribute[k]).replace(\n",
    "                \"'\", \"\").encode(\"ascii\", \"ignore\").decode()+\"'\" for k in source_node_attribute.keys()])+\"}\"\n",
    "            target_attributes = \"{\"+\", \".join([k+\" : '\"+str(target_node_attribute[k]).replace(\n",
    "                \"'\", \"\").encode(\"ascii\", \"ignore\").decode()+\"'\" for k in target_node_attribute.keys()])+\"}\"\n",
    "            edge_attributes = \"{\"+\", \".join(\n",
    "                [k+\" : '\"+edge_attributes[k]+\"'\" for k in edge_attributes.keys()])+\"}\"\n",
    "            # .single().value()\n",
    "            return session.run(\"MATCH (s:{} {}), (t:{} {}) MERGE (s)<-[e:{} {}]-(t) RETURN e\".format(source_node_label, source_attributes, target_node_label, target_attributes, relation_type, edge_attributes))\n",
    "\n",
    "    def generate_edges(self,collection_name: str, entities_triples: Union[pd.DataFrame,List[dict]], db=None):\n",
    "        if type(entities_triples) != pd.DataFrame:\n",
    "            entities_triples = pd.json_normalize(entities_triples, max_level=0)\n",
    "        for idx, triple in tqdm(entities_triples.iterrows(), total=len(entities_triples)):\n",
    "            source_node_labels = triple['Subject']['node_labels']\n",
    "            source_node_attributes = triple['Subject']\n",
    "            for key,node_attribute in source_node_attributes:\n",
    "                if type(node_attribute) == datetime:\n",
    "                    neo4j_datetime = DateTime(node_attribute.year, node_attribute.month, node_attribute.day, node_attribute.minute, node_attribute.second)\n",
    "                    source_node_attributes.update({key, neo4j_datetime})\n",
    "            source_node_labels = [label.capitalize() for label in source_node_labels]\n",
    "            source_node_labels = triple['Subject']['node_labels']\n",
    "\n",
    "            target_node_attributes = triple['Object']\n",
    "            for key,node_attribute in target_node_attributes:\n",
    "                if type(node_attribute) == datetime:\n",
    "                    neo4j_datetime = DateTime(node_attribute.year, node_attribute.month, node_attribute.day, node_attribute.minute, node_attribute.second)\n",
    "                    target_node_attributes.update({key, neo4j_datetime})\n",
    "            target_node_labels = [label.capitalize() for label in target_node_labels]\n",
    "\n",
    "            relation_type = triple['Predicate']['relation_type']\n",
    "            relation_type = re.sub('[^A-Za-z0-9]+', '_', relation_type)\n",
    "            edge_attributes = triple['Predicate']\n",
    "            for key,edge_attribute in edge_attributes:\n",
    "                if type(edge_attribute) == datetime:\n",
    "                    neo4j_datetime = DateTime(edge_attribute.year, edge_attribute.month, edge_attribute.day, edge_attribute.minute, edge_attribute.second)\n",
    "                    edge_attributes.update({key, neo4j_datetime})\n",
    "            edge_attributes['neo4j_collection'] = collection_name\n",
    "\n",
    "            self.merge_edge(source_node_labels, source_node_attributes, target_node_labels,\n",
    "                    target_node_attributes, relation_type, edge_attributes, db)\n",
    "\n",
    "    def create_graph(self, collection_name: str, triples: List[dict]):\n",
    "        triples_df = pd.json_normalize(triples, max_level=0)\n",
    "        self.create_node(collection_name, triples_df['Subject'].values.tolist())\n",
    "        self.create_node(collection_name, triples_df['Object'].values.tolist())\n",
    "        self.generate_edges(collection_name, triples)\n",
    "        return"
   ]
  },
  {
   "cell_type": "code",
   "execution_count": 20,
   "id": "408b5780",
   "metadata": {},
   "outputs": [
    {
     "name": "stdout",
     "output_type": "stream",
     "text": [
      "bolt://neo4j:7687\n"
     ]
    },
    {
     "name": "stderr",
     "output_type": "stream",
     "text": [
      "/tmp/ipykernel_917/1756591374.py:26: DeprecationWarning: `last_bookmark` has been deprecated in favor of `last_bookmarks`. This method can lead to unexpected behaviour.\n",
      "  self.bookmark = self.driver.session().last_bookmark()\n"
     ]
    }
   ],
   "source": [
    "neo4j_manager = Neo4jManager()"
   ]
  },
  {
   "cell_type": "code",
   "execution_count": 24,
   "id": "9f2672d6",
   "metadata": {},
   "outputs": [
    {
     "data": {
      "text/plain": [
       "<neo4j._sync.work.session.Session at 0x7f1da43a17c0>"
      ]
     },
     "execution_count": 24,
     "metadata": {},
     "output_type": "execute_result"
    }
   ],
   "source": [
    "neo4j_manager.neo4j_conn.driver.session()"
   ]
  },
  {
   "cell_type": "code",
   "execution_count": null,
   "id": "6729d6c9",
   "metadata": {},
   "outputs": [],
   "source": []
  }
 ],
 "metadata": {
  "kernelspec": {
   "display_name": "Python 3 (ipykernel)",
   "language": "python",
   "name": "python3"
  },
  "language_info": {
   "codemirror_mode": {
    "name": "ipython",
    "version": 3
   },
   "file_extension": ".py",
   "mimetype": "text/x-python",
   "name": "python",
   "nbconvert_exporter": "python",
   "pygments_lexer": "ipython3",
   "version": "3.8.10"
  }
 },
 "nbformat": 4,
 "nbformat_minor": 5
}
